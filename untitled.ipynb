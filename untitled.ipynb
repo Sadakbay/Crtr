{
 "cells": [
  {
   "cell_type": "code",
   "execution_count": 1,
   "metadata": {},
   "outputs": [
    {
     "name": "stdout",
     "output_type": "stream",
     "text": [
      "Collecting PyMuPDF\n",
      "  Downloading PyMuPDF-1.24.9-cp38-none-macosx_11_0_arm64.whl (3.0 MB)\n",
      "\u001b[K     |████████████████████████████████| 3.0 MB 817 kB/s eta 0:00:01\n",
      "\u001b[?25hCollecting pdfplumber\n",
      "  Downloading pdfplumber-0.11.2-py3-none-any.whl (58 kB)\n",
      "\u001b[K     |████████████████████████████████| 58 kB 27.3 MB/s eta 0:00:01\n",
      "\u001b[?25hCollecting pandas\n",
      "  Downloading pandas-2.0.3-cp38-cp38-macosx_11_0_arm64.whl (10.7 MB)\n",
      "\u001b[K     |████████████████████████████████| 10.7 MB 1.6 MB/s eta 0:00:01\n",
      "\u001b[?25hCollecting openpyxl\n",
      "  Downloading openpyxl-3.1.5-py2.py3-none-any.whl (250 kB)\n",
      "\u001b[K     |████████████████████████████████| 250 kB 89.0 MB/s eta 0:00:01\n",
      "\u001b[?25hCollecting PyMuPDFb==1.24.9\n",
      "  Downloading PyMuPDFb-1.24.9-py3-none-macosx_11_0_arm64.whl (14.9 MB)\n",
      "\u001b[K     |████████████████████████████████| 14.9 MB 8.6 MB/s eta 0:00:01\n",
      "\u001b[?25hCollecting pdfminer.six==20231228\n",
      "  Downloading pdfminer.six-20231228-py3-none-any.whl (5.6 MB)\n",
      "\u001b[K     |████████████████████████████████| 5.6 MB 41.4 MB/s eta 0:00:01\n",
      "\u001b[?25hCollecting Pillow>=9.1\n",
      "  Downloading pillow-10.4.0-cp38-cp38-macosx_11_0_arm64.whl (3.4 MB)\n",
      "\u001b[K     |████████████████████████████████| 3.4 MB 31.3 MB/s eta 0:00:01\n",
      "\u001b[?25hCollecting pypdfium2>=4.18.0\n",
      "  Downloading pypdfium2-4.30.0-py3-none-macosx_11_0_arm64.whl (2.7 MB)\n",
      "\u001b[K     |████████████████████████████████| 2.7 MB 17.0 MB/s eta 0:00:01     |█████████████████████████████   | 2.5 MB 17.0 MB/s eta 0:00:01\n",
      "\u001b[?25hCollecting cryptography>=36.0.0\n",
      "  Downloading cryptography-43.0.0-cp37-abi3-macosx_10_9_universal2.whl (6.2 MB)\n",
      "\u001b[K     |████████████████████████████████| 6.2 MB 6.4 MB/s eta 0:00:01\n",
      "\u001b[?25hCollecting charset-normalizer>=2.0.0\n",
      "  Downloading charset_normalizer-3.3.2-cp38-cp38-macosx_11_0_arm64.whl (119 kB)\n",
      "\u001b[K     |████████████████████████████████| 119 kB 10.1 MB/s eta 0:00:01\n",
      "\u001b[?25hCollecting cffi>=1.12\n",
      "  Downloading cffi-1.16.0.tar.gz (512 kB)\n",
      "\u001b[K     |████████████████████████████████| 512 kB 7.6 MB/s eta 0:00:01\n",
      "\u001b[?25h  Installing build dependencies ... \u001b[?25ldone\n",
      "\u001b[?25h  Getting requirements to build wheel ... \u001b[?25ldone\n",
      "\u001b[?25h    Preparing wheel metadata ... \u001b[?25ldone\n",
      "\u001b[?25hCollecting pycparser\n",
      "  Using cached pycparser-2.22-py3-none-any.whl (117 kB)\n",
      "Requirement already satisfied: python-dateutil>=2.8.2 in /Users/serikzhan/.pyenv/versions/3.8.10/lib/python3.8/site-packages (from pandas) (2.9.0.post0)\n",
      "Collecting pytz>=2020.1\n",
      "  Using cached pytz-2024.1-py2.py3-none-any.whl (505 kB)\n",
      "Collecting tzdata>=2022.1\n",
      "  Using cached tzdata-2024.1-py2.py3-none-any.whl (345 kB)\n",
      "Collecting numpy>=1.20.3\n",
      "  Downloading numpy-1.24.4-cp38-cp38-macosx_11_0_arm64.whl (13.8 MB)\n",
      "\u001b[K     |████████████████████████████████| 13.8 MB 9.7 MB/s eta 0:00:01\n",
      "\u001b[?25hRequirement already satisfied: six>=1.5 in /Users/serikzhan/.pyenv/versions/3.8.10/lib/python3.8/site-packages (from python-dateutil>=2.8.2->pandas) (1.16.0)\n",
      "Collecting et-xmlfile\n",
      "  Downloading et_xmlfile-1.1.0-py3-none-any.whl (4.7 kB)\n",
      "Building wheels for collected packages: cffi\n",
      "  Building wheel for cffi (PEP 517) ... \u001b[?25ldone\n",
      "\u001b[?25h  Created wheel for cffi: filename=cffi-1.16.0-cp38-cp38-macosx_13_0_arm64.whl size=177664 sha256=e881f1a3274e83c108d547560c6c97728c200e827eb67150df0703525185bf3d\n",
      "  Stored in directory: /Users/serikzhan/Library/Caches/pip/wheels/f4/df/d7/20c740c0373c550cdca4fcf0eb9af36c769ad8553ea81c6a2f\n",
      "Successfully built cffi\n",
      "Installing collected packages: pycparser, cffi, cryptography, charset-normalizer, tzdata, pytz, pypdfium2, PyMuPDFb, Pillow, pdfminer.six, numpy, et-xmlfile, PyMuPDF, pdfplumber, pandas, openpyxl\n",
      "Successfully installed Pillow-10.4.0 PyMuPDF-1.24.9 PyMuPDFb-1.24.9 cffi-1.16.0 charset-normalizer-3.3.2 cryptography-43.0.0 et-xmlfile-1.1.0 numpy-1.24.4 openpyxl-3.1.5 pandas-2.0.3 pdfminer.six-20231228 pdfplumber-0.11.2 pycparser-2.22 pypdfium2-4.30.0 pytz-2024.1 tzdata-2024.1\n",
      "\u001b[33mWARNING: You are using pip version 21.1.1; however, version 24.2 is available.\n",
      "You should consider upgrading via the '/Users/serikzhan/.pyenv/versions/3.8.10/bin/python -m pip install --upgrade pip' command.\u001b[0m\n",
      "Note: you may need to restart the kernel to use updated packages.\n"
     ]
    }
   ],
   "source": [
    "pip install PyMuPDF pdfplumber pandas openpyxl\n"
   ]
  },
  {
   "cell_type": "code",
   "execution_count": 2,
   "metadata": {},
   "outputs": [],
   "source": [
    "import fitz  # PyMuPDF\n",
    "import pandas as pd\n",
    "\n",
    "# Open the PDF\n",
    "pdf_path = 'path_to_pdf_file.pdf'\n",
    "pdf_document = fitz.open(pdf_path)\n",
    "\n",
    "# Extract text from each page\n",
    "all_text = []\n",
    "for page_num in range(len(pdf_document)):\n",
    "    page = pdf_document.load_page(page_num)\n",
    "    text = page.get_text(\"text\")\n",
    "    all_text.append(text)\n",
    "\n",
    "# Close the PDF document\n",
    "pdf_document.close()\n"
   ]
  },
  {
   "cell_type": "code",
   "execution_count": 3,
   "metadata": {},
   "outputs": [],
   "source": [
    "data = []\n",
    "for page_text in all_text:\n",
    "    lines = page_text.split('\\n')\n",
    "    for line in lines:\n",
    "        # Assuming columns are separated by spaces\n",
    "        columns = line.split()\n",
    "        data.append(columns)\n",
    "\n",
    "# Convert to DataFrame\n",
    "df = pd.DataFrame(data)\n"
   ]
  },
  {
   "cell_type": "code",
   "execution_count": 5,
   "metadata": {},
   "outputs": [],
   "source": [
    "excel_path = 'output.xlsx'\n",
    "df.to_excel(excel_path, index=False, header=False)\n"
   ]
  },
  {
   "cell_type": "code",
   "execution_count": 10,
   "metadata": {},
   "outputs": [],
   "source": [
    "import tabula\n",
    "import pandas as pd"
   ]
  },
  {
   "cell_type": "code",
   "execution_count": 11,
   "metadata": {},
   "outputs": [],
   "source": [
    "\n",
    "def pdf_to_excel(pdf_file_path, excel_file_path):\n",
    "    # Read PDF file\n",
    "    tables = tabula.read_pdf(pdf_file_path, pages='all')\n",
    "\n",
    "    # Write each table to a separate sheet in the Excel file\n",
    "    with pd.ExcelWriter(excel_file_path) as writer:\n",
    "        for i, table in enumerate(tables):\n",
    "            table.to_excel(writer, sheet_name=f'Sheet{i+1}')\n",
    "\n",
    "\n"
   ]
  },
  {
   "cell_type": "code",
   "execution_count": 12,
   "metadata": {},
   "outputs": [
    {
     "ename": "AttributeError",
     "evalue": "module 'tabula' has no attribute 'read_pdf'",
     "output_type": "error",
     "traceback": [
      "\u001b[0;31m---------------------------------------------------------------------------\u001b[0m",
      "\u001b[0;31mAttributeError\u001b[0m                            Traceback (most recent call last)",
      "Cell \u001b[0;32mIn[12], line 1\u001b[0m\n\u001b[0;32m----> 1\u001b[0m \u001b[43mpdf_to_excel\u001b[49m\u001b[43m(\u001b[49m\u001b[38;5;124;43m'\u001b[39;49m\u001b[38;5;124;43mpath_to_pdf_file.pdf\u001b[39;49m\u001b[38;5;124;43m'\u001b[39;49m\u001b[43m,\u001b[49m\u001b[43m \u001b[49m\u001b[38;5;124;43m'\u001b[39;49m\u001b[38;5;124;43mpath_to_excel_file.xlsx\u001b[39;49m\u001b[38;5;124;43m'\u001b[39;49m\u001b[43m)\u001b[49m\n",
      "Cell \u001b[0;32mIn[11], line 3\u001b[0m, in \u001b[0;36mpdf_to_excel\u001b[0;34m(pdf_file_path, excel_file_path)\u001b[0m\n\u001b[1;32m      1\u001b[0m \u001b[38;5;28;01mdef\u001b[39;00m \u001b[38;5;21mpdf_to_excel\u001b[39m(pdf_file_path, excel_file_path):\n\u001b[1;32m      2\u001b[0m     \u001b[38;5;66;03m# Read PDF file\u001b[39;00m\n\u001b[0;32m----> 3\u001b[0m     tables \u001b[38;5;241m=\u001b[39m \u001b[43mtabula\u001b[49m\u001b[38;5;241;43m.\u001b[39;49m\u001b[43mread_pdf\u001b[49m(pdf_file_path, pages\u001b[38;5;241m=\u001b[39m\u001b[38;5;124m'\u001b[39m\u001b[38;5;124mall\u001b[39m\u001b[38;5;124m'\u001b[39m)\n\u001b[1;32m      5\u001b[0m     \u001b[38;5;66;03m# Write each table to a separate sheet in the Excel file\u001b[39;00m\n\u001b[1;32m      6\u001b[0m     \u001b[38;5;28;01mwith\u001b[39;00m pd\u001b[38;5;241m.\u001b[39mExcelWriter(excel_file_path) \u001b[38;5;28;01mas\u001b[39;00m writer:\n",
      "\u001b[0;31mAttributeError\u001b[0m: module 'tabula' has no attribute 'read_pdf'"
     ]
    }
   ],
   "source": [
    "pdf_to_excel('path_to_pdf_file.pdf', 'path_to_excel_file.xlsx')"
   ]
  },
  {
   "cell_type": "code",
   "execution_count": 2,
   "metadata": {},
   "outputs": [
    {
     "name": "stdout",
     "output_type": "stream",
     "text": [
      "Collecting tabula\n",
      "  Downloading tabula-1.0.5.tar.gz (9.5 kB)\n",
      "  Installing build dependencies ... \u001b[?25ldone\n",
      "\u001b[?25h  Getting requirements to build wheel ... \u001b[?25ldone\n",
      "\u001b[?25h  Preparing metadata (pyproject.toml) ... \u001b[?25ldone\n",
      "\u001b[?25hRequirement already satisfied: setuptools in /Library/Frameworks/Python.framework/Versions/3.12/lib/python3.12/site-packages (from tabula) (69.5.1)\n",
      "Requirement already satisfied: numpy in /Library/Frameworks/Python.framework/Versions/3.12/lib/python3.12/site-packages (from tabula) (1.26.4)\n",
      "Building wheels for collected packages: tabula\n",
      "  Building wheel for tabula (pyproject.toml) ... \u001b[?25ldone\n",
      "\u001b[?25h  Created wheel for tabula: filename=tabula-1.0.5-py3-none-any.whl size=10587 sha256=7846c82cfcede9b6e8fafb9974d2ba880bb703211fa3279a4b343cf20c43e3c7\n",
      "  Stored in directory: /Users/serikzhan/Library/Caches/pip/wheels/02/36/f9/1af7331f3459ce65735775e24bfe68e3ea9cac5e5b23b0b42c\n",
      "Successfully built tabula\n",
      "Installing collected packages: tabula\n",
      "Successfully installed tabula-1.0.5\n",
      "\n",
      "\u001b[1m[\u001b[0m\u001b[34;49mnotice\u001b[0m\u001b[1;39;49m]\u001b[0m\u001b[39;49m A new release of pip is available: \u001b[0m\u001b[31;49m24.1.1\u001b[0m\u001b[39;49m -> \u001b[0m\u001b[32;49m24.2\u001b[0m\n",
      "\u001b[1m[\u001b[0m\u001b[34;49mnotice\u001b[0m\u001b[1;39;49m]\u001b[0m\u001b[39;49m To update, run: \u001b[0m\u001b[32;49mpip install --upgrade pip\u001b[0m\n",
      "Note: you may need to restart the kernel to use updated packages.\n"
     ]
    }
   ],
   "source": [
    "pip install tabula"
   ]
  },
  {
   "cell_type": "code",
   "execution_count": 5,
   "metadata": {},
   "outputs": [
    {
     "ename": "JVMNotFoundException",
     "evalue": "No JVM shared library file (libjli.dylib) found. Try setting up the JAVA_HOME environment variable properly.",
     "output_type": "error",
     "traceback": [
      "\u001b[0;31m---------------------------------------------------------------------------\u001b[0m",
      "\u001b[0;31mJVMNotFoundException\u001b[0m                      Traceback (most recent call last)",
      "Cell \u001b[0;32mIn[5], line 5\u001b[0m\n\u001b[1;32m      1\u001b[0m \u001b[38;5;28;01mimport\u001b[39;00m \u001b[38;5;21;01mtabula\u001b[39;00m \n\u001b[1;32m      3\u001b[0m file \u001b[38;5;241m=\u001b[39m \u001b[38;5;124m\"\u001b[39m\u001b[38;5;124mpath_to_pdf_file.pdf\u001b[39m\u001b[38;5;124m\"\u001b[39m\n\u001b[0;32m----> 5\u001b[0m output \u001b[38;5;241m=\u001b[39m \u001b[43mtabula\u001b[49m\u001b[38;5;241;43m.\u001b[39;49m\u001b[43mconvert_into\u001b[49m\u001b[43m(\u001b[49m\u001b[43mfile\u001b[49m\u001b[43m,\u001b[49m\u001b[43m \u001b[49m\u001b[38;5;124;43m\"\u001b[39;49m\u001b[38;5;124;43mconverted.csv\u001b[39;49m\u001b[38;5;124;43m\"\u001b[39;49m\u001b[43m,\u001b[49m\u001b[43m \u001b[49m\u001b[43moutput_format\u001b[49m\u001b[38;5;241;43m=\u001b[39;49m\u001b[38;5;124;43m\"\u001b[39;49m\u001b[38;5;124;43mcsv\u001b[39;49m\u001b[38;5;124;43m\"\u001b[39;49m\u001b[43m,\u001b[49m\u001b[43m \u001b[49m\u001b[43mlattice\u001b[49m\u001b[38;5;241;43m=\u001b[39;49m\u001b[38;5;28;43;01mTrue\u001b[39;49;00m\u001b[43m,\u001b[49m\u001b[43m \u001b[49m\u001b[43mstream\u001b[49m\u001b[38;5;241;43m=\u001b[39;49m\u001b[38;5;28;43;01mFalse\u001b[39;49;00m\u001b[43m,\u001b[49m\u001b[43m  \u001b[49m\u001b[43mpages\u001b[49m\u001b[38;5;241;43m=\u001b[39;49m\u001b[38;5;124;43m\"\u001b[39;49m\u001b[38;5;124;43mall\u001b[39;49m\u001b[38;5;124;43m\"\u001b[39;49m\u001b[43m \u001b[49m\u001b[43m)\u001b[49m\n",
      "File \u001b[0;32m/Library/Frameworks/Python.framework/Versions/3.12/lib/python3.12/site-packages/tabula/io.py:835\u001b[0m, in \u001b[0;36mconvert_into\u001b[0;34m(input_path, output_path, output_format, java_options, pages, guess, area, relative_area, lattice, stream, password, silent, columns, relative_columns, format, batch, force_subprocess, options)\u001b[0m\n\u001b[1;32m    832\u001b[0m     \u001b[38;5;28;01mraise\u001b[39;00m \u001b[38;5;167;01mValueError\u001b[39;00m(\u001b[38;5;124mf\u001b[39m\u001b[38;5;124m\"\u001b[39m\u001b[38;5;132;01m{\u001b[39;00mpath\u001b[38;5;132;01m}\u001b[39;00m\u001b[38;5;124m is empty. Check the file, or download it manually.\u001b[39m\u001b[38;5;124m\"\u001b[39m)\n\u001b[1;32m    834\u001b[0m \u001b[38;5;28;01mtry\u001b[39;00m:\n\u001b[0;32m--> 835\u001b[0m     \u001b[43m_run\u001b[49m\u001b[43m(\u001b[49m\u001b[43mtabula_options\u001b[49m\u001b[43m,\u001b[49m\u001b[43m \u001b[49m\u001b[43mjava_options\u001b[49m\u001b[43m,\u001b[49m\u001b[43m \u001b[49m\u001b[43mpath\u001b[49m\u001b[43m,\u001b[49m\u001b[43m \u001b[49m\u001b[43mforce_subprocess\u001b[49m\u001b[38;5;241;43m=\u001b[39;49m\u001b[43mforce_subprocess\u001b[49m\u001b[43m)\u001b[49m\n\u001b[1;32m    836\u001b[0m \u001b[38;5;28;01mfinally\u001b[39;00m:\n\u001b[1;32m    837\u001b[0m     \u001b[38;5;28;01mif\u001b[39;00m temporary:\n",
      "File \u001b[0;32m/Library/Frameworks/Python.framework/Versions/3.12/lib/python3.12/site-packages/tabula/io.py:74\u001b[0m, in \u001b[0;36m_run\u001b[0;34m(options, java_options, path, encoding, force_subprocess)\u001b[0m\n\u001b[1;32m     69\u001b[0m     _tabula_vm \u001b[38;5;241m=\u001b[39m SubprocessTabula(\n\u001b[1;32m     70\u001b[0m         java_options\u001b[38;5;241m=\u001b[39mjava_options, silent\u001b[38;5;241m=\u001b[39moptions\u001b[38;5;241m.\u001b[39msilent, encoding\u001b[38;5;241m=\u001b[39mencoding\n\u001b[1;32m     71\u001b[0m     )\n\u001b[1;32m     73\u001b[0m \u001b[38;5;28;01mif\u001b[39;00m \u001b[38;5;129;01mnot\u001b[39;00m _tabula_vm:\n\u001b[0;32m---> 74\u001b[0m     _tabula_vm \u001b[38;5;241m=\u001b[39m \u001b[43mTabulaVm\u001b[49m\u001b[43m(\u001b[49m\u001b[43mjava_options\u001b[49m\u001b[38;5;241;43m=\u001b[39;49m\u001b[43mjava_options\u001b[49m\u001b[43m,\u001b[49m\u001b[43m \u001b[49m\u001b[43msilent\u001b[49m\u001b[38;5;241;43m=\u001b[39;49m\u001b[43moptions\u001b[49m\u001b[38;5;241;43m.\u001b[39;49m\u001b[43msilent\u001b[49m\u001b[43m)\u001b[49m\n\u001b[1;32m     75\u001b[0m     \u001b[38;5;28;01mif\u001b[39;00m _tabula_vm \u001b[38;5;129;01mand\u001b[39;00m \u001b[38;5;129;01mnot\u001b[39;00m _tabula_vm\u001b[38;5;241m.\u001b[39mtabula:\n\u001b[1;32m     76\u001b[0m         _tabula_vm \u001b[38;5;241m=\u001b[39m SubprocessTabula(\n\u001b[1;32m     77\u001b[0m             java_options\u001b[38;5;241m=\u001b[39mjava_options, silent\u001b[38;5;241m=\u001b[39moptions\u001b[38;5;241m.\u001b[39msilent, encoding\u001b[38;5;241m=\u001b[39mencoding\n\u001b[1;32m     78\u001b[0m         )\n",
      "File \u001b[0;32m/Library/Frameworks/Python.framework/Versions/3.12/lib/python3.12/site-packages/tabula/backend.py:45\u001b[0m, in \u001b[0;36mTabulaVm.__init__\u001b[0;34m(self, java_options, silent)\u001b[0m\n\u001b[1;32m     36\u001b[0m     \u001b[38;5;28;01mif\u001b[39;00m silent:\n\u001b[1;32m     37\u001b[0m         java_options\u001b[38;5;241m.\u001b[39mextend(\n\u001b[1;32m     38\u001b[0m             (\n\u001b[1;32m     39\u001b[0m                 \u001b[38;5;124m\"\u001b[39m\u001b[38;5;124m-Dorg.slf4j.simpleLogger.defaultLogLevel=off\u001b[39m\u001b[38;5;124m\"\u001b[39m,\n\u001b[0;32m   (...)\u001b[0m\n\u001b[1;32m     42\u001b[0m             )\n\u001b[1;32m     43\u001b[0m         )\n\u001b[0;32m---> 45\u001b[0m     \u001b[43mjpype\u001b[49m\u001b[38;5;241;43m.\u001b[39;49m\u001b[43mstartJVM\u001b[49m\u001b[43m(\u001b[49m\u001b[38;5;241;43m*\u001b[39;49m\u001b[43mjava_options\u001b[49m\u001b[43m,\u001b[49m\u001b[43m \u001b[49m\u001b[43mconvertStrings\u001b[49m\u001b[38;5;241;43m=\u001b[39;49m\u001b[38;5;28;43;01mFalse\u001b[39;49;00m\u001b[43m)\u001b[49m\n\u001b[1;32m     47\u001b[0m \u001b[38;5;28;01mimport\u001b[39;00m \u001b[38;5;21;01mjava\u001b[39;00m\u001b[38;5;21;01m.\u001b[39;00m\u001b[38;5;21;01mlang\u001b[39;00m \u001b[38;5;28;01mas\u001b[39;00m \u001b[38;5;21;01mlang\u001b[39;00m\n\u001b[1;32m     48\u001b[0m \u001b[38;5;28;01mimport\u001b[39;00m \u001b[38;5;21;01mtechnology\u001b[39;00m\u001b[38;5;21;01m.\u001b[39;00m\u001b[38;5;21;01mtabula\u001b[39;00m \u001b[38;5;28;01mas\u001b[39;00m \u001b[38;5;21;01mtabula\u001b[39;00m\n",
      "File \u001b[0;32m/Library/Frameworks/Python.framework/Versions/3.12/lib/python3.12/site-packages/jpype/_core.py:219\u001b[0m, in \u001b[0;36mstartJVM\u001b[0;34m(jvmpath, classpath, ignoreUnrecognized, convertStrings, interrupt, *jvmargs)\u001b[0m\n\u001b[1;32m    216\u001b[0m         jvmargs \u001b[38;5;241m=\u001b[39m jvmargs[\u001b[38;5;241m1\u001b[39m:]\n\u001b[1;32m    218\u001b[0m \u001b[38;5;28;01mif\u001b[39;00m \u001b[38;5;129;01mnot\u001b[39;00m jvmpath:\n\u001b[0;32m--> 219\u001b[0m     jvmpath \u001b[38;5;241m=\u001b[39m \u001b[43mgetDefaultJVMPath\u001b[49m\u001b[43m(\u001b[49m\u001b[43m)\u001b[49m\n\u001b[1;32m    220\u001b[0m \u001b[38;5;28;01melse\u001b[39;00m:\n\u001b[1;32m    221\u001b[0m     \u001b[38;5;66;03m# Allow the path to be a PathLike.\u001b[39;00m\n\u001b[1;32m    222\u001b[0m     jvmpath \u001b[38;5;241m=\u001b[39m os\u001b[38;5;241m.\u001b[39mfspath(jvmpath)\n",
      "File \u001b[0;32m/Library/Frameworks/Python.framework/Versions/3.12/lib/python3.12/site-packages/jpype/_jvmfinder.py:74\u001b[0m, in \u001b[0;36mgetDefaultJVMPath\u001b[0;34m()\u001b[0m\n\u001b[1;32m     72\u001b[0m \u001b[38;5;28;01melse\u001b[39;00m:\n\u001b[1;32m     73\u001b[0m     finder \u001b[38;5;241m=\u001b[39m LinuxJVMFinder()\n\u001b[0;32m---> 74\u001b[0m \u001b[38;5;28;01mreturn\u001b[39;00m \u001b[43mfinder\u001b[49m\u001b[38;5;241;43m.\u001b[39;49m\u001b[43mget_jvm_path\u001b[49m\u001b[43m(\u001b[49m\u001b[43m)\u001b[49m\n",
      "File \u001b[0;32m/Library/Frameworks/Python.framework/Versions/3.12/lib/python3.12/site-packages/jpype/_jvmfinder.py:212\u001b[0m, in \u001b[0;36mJVMFinder.get_jvm_path\u001b[0;34m(self)\u001b[0m\n\u001b[1;32m    210\u001b[0m \u001b[38;5;28;01mif\u001b[39;00m jvm_notsupport_ext \u001b[38;5;129;01mis\u001b[39;00m \u001b[38;5;129;01mnot\u001b[39;00m \u001b[38;5;28;01mNone\u001b[39;00m:\n\u001b[1;32m    211\u001b[0m     \u001b[38;5;28;01mraise\u001b[39;00m jvm_notsupport_ext\n\u001b[0;32m--> 212\u001b[0m \u001b[38;5;28;01mraise\u001b[39;00m JVMNotFoundException(\u001b[38;5;124m\"\u001b[39m\u001b[38;5;124mNo JVM shared library file (\u001b[39m\u001b[38;5;132;01m{0}\u001b[39;00m\u001b[38;5;124m) \u001b[39m\u001b[38;5;124m\"\u001b[39m\n\u001b[1;32m    213\u001b[0m                            \u001b[38;5;124m\"\u001b[39m\u001b[38;5;124mfound. Try setting up the JAVA_HOME \u001b[39m\u001b[38;5;124m\"\u001b[39m\n\u001b[1;32m    214\u001b[0m                            \u001b[38;5;124m\"\u001b[39m\u001b[38;5;124menvironment variable properly.\u001b[39m\u001b[38;5;124m\"\u001b[39m\n\u001b[1;32m    215\u001b[0m                            \u001b[38;5;241m.\u001b[39mformat(\u001b[38;5;28mself\u001b[39m\u001b[38;5;241m.\u001b[39m_libfile))\n",
      "\u001b[0;31mJVMNotFoundException\u001b[0m: No JVM shared library file (libjli.dylib) found. Try setting up the JAVA_HOME environment variable properly."
     ]
    }
   ],
   "source": [
    "import tabula \n",
    "\n",
    "file = \"path_to_pdf_file.pdf\"\n",
    "\n",
    "output = tabula.convert_into(file, \"converted.csv\", output_format=\"csv\", lattice=True, stream=False,  pages=\"all\" )"
   ]
  },
  {
   "cell_type": "code",
   "execution_count": 1,
   "metadata": {},
   "outputs": [
    {
     "ename": "AttributeError",
     "evalue": "module 'camelot' has no attribute 'read_pdf'",
     "output_type": "error",
     "traceback": [
      "\u001b[0;31m---------------------------------------------------------------------------\u001b[0m",
      "\u001b[0;31mAttributeError\u001b[0m                            Traceback (most recent call last)",
      "Cell \u001b[0;32mIn[1], line 10\u001b[0m\n\u001b[1;32m      7\u001b[0m excel_path \u001b[38;5;241m=\u001b[39m \u001b[38;5;124m'\u001b[39m\u001b[38;5;124mpath_to_excel_file.xlsx\u001b[39m\u001b[38;5;124m'\u001b[39m\n\u001b[1;32m      9\u001b[0m \u001b[38;5;66;03m# Use camelot to extract tables from the PDF\u001b[39;00m\n\u001b[0;32m---> 10\u001b[0m tables \u001b[38;5;241m=\u001b[39m \u001b[43mcamelot\u001b[49m\u001b[38;5;241;43m.\u001b[39;49m\u001b[43mread_pdf\u001b[49m(pdf_path, pages\u001b[38;5;241m=\u001b[39m\u001b[38;5;124m'\u001b[39m\u001b[38;5;124m1-end\u001b[39m\u001b[38;5;124m'\u001b[39m)\n\u001b[1;32m     12\u001b[0m \u001b[38;5;66;03m# Create a Pandas Excel writer using XlsxWriter as the engine\u001b[39;00m\n\u001b[1;32m     13\u001b[0m \u001b[38;5;28;01mwith\u001b[39;00m pd\u001b[38;5;241m.\u001b[39mExcelWriter(excel_path, engine\u001b[38;5;241m=\u001b[39m\u001b[38;5;124m'\u001b[39m\u001b[38;5;124mxlsxwriter\u001b[39m\u001b[38;5;124m'\u001b[39m) \u001b[38;5;28;01mas\u001b[39;00m writer:\n\u001b[1;32m     14\u001b[0m     \u001b[38;5;66;03m# Iterate over the extracted tables\u001b[39;00m\n",
      "\u001b[0;31mAttributeError\u001b[0m: module 'camelot' has no attribute 'read_pdf'"
     ]
    }
   ],
   "source": [
    "import camelot\n",
    "import pandas as pd\n",
    "\n",
    "# Define the path to the PDF file\n",
    "pdf_path = 'path_to_pdf_file.pdf'\n",
    "# Define the output Excel file\n",
    "excel_path = 'path_to_excel_file.xlsx'\n",
    "\n",
    "# Use camelot to extract tables from the PDF\n",
    "tables = camelot.read_pdf(pdf_path, pages='1-end')\n",
    "\n",
    "# Create a Pandas Excel writer using XlsxWriter as the engine\n",
    "with pd.ExcelWriter(excel_path, engine='xlsxwriter') as writer:\n",
    "    # Iterate over the extracted tables\n",
    "    for i, table in enumerate(tables):\n",
    "        # Convert the table to a DataFrame\n",
    "        df = table.df\n",
    "        # Write the DataFrame to a specific sheet in the Excel file\n",
    "        df.to_excel(writer, sheet_name=f'Sheet_{i+1}', index=False)\n",
    "\n",
    "print(\"PDF tables have been successfully converted to Excel.\")\n"
   ]
  },
  {
   "cell_type": "code",
   "execution_count": 10,
   "metadata": {},
   "outputs": [
    {
     "name": "stdout",
     "output_type": "stream",
     "text": [
      "zsh:1: no matches found: camelot-py[cv]\n",
      "Note: you may need to restart the kernel to use updated packages.\n"
     ]
    }
   ],
   "source": [
    "pip install camelot-py[cv]\n"
   ]
  },
  {
   "cell_type": "code",
   "execution_count": 5,
   "metadata": {},
   "outputs": [
    {
     "ename": "AttributeError",
     "evalue": "module 'camelot' has no attribute 'read_pdf'",
     "output_type": "error",
     "traceback": [
      "\u001b[0;31m---------------------------------------------------------------------------\u001b[0m",
      "\u001b[0;31mAttributeError\u001b[0m                            Traceback (most recent call last)",
      "Cell \u001b[0;32mIn[5], line 10\u001b[0m\n\u001b[1;32m      7\u001b[0m excel_path \u001b[38;5;241m=\u001b[39m \u001b[38;5;124m'\u001b[39m\u001b[38;5;124mpath_to_excel_file.xlsx\u001b[39m\u001b[38;5;124m'\u001b[39m\n\u001b[1;32m      9\u001b[0m \u001b[38;5;66;03m# Use camelot to extract tables from the PDF\u001b[39;00m\n\u001b[0;32m---> 10\u001b[0m tables \u001b[38;5;241m=\u001b[39m \u001b[43mcamelot\u001b[49m\u001b[38;5;241;43m.\u001b[39;49m\u001b[43mread_pdf\u001b[49m(pdf_path, pages\u001b[38;5;241m=\u001b[39m\u001b[38;5;124m'\u001b[39m\u001b[38;5;124m1-end\u001b[39m\u001b[38;5;124m'\u001b[39m)\n\u001b[1;32m     12\u001b[0m \u001b[38;5;66;03m# Create a Pandas Excel writer using XlsxWriter as the engine\u001b[39;00m\n\u001b[1;32m     13\u001b[0m \u001b[38;5;28;01mwith\u001b[39;00m pd\u001b[38;5;241m.\u001b[39mExcelWriter(excel_path, engine\u001b[38;5;241m=\u001b[39m\u001b[38;5;124m'\u001b[39m\u001b[38;5;124mxlsxwriter\u001b[39m\u001b[38;5;124m'\u001b[39m) \u001b[38;5;28;01mas\u001b[39;00m writer:\n\u001b[1;32m     14\u001b[0m     \u001b[38;5;66;03m# Iterate over the extracted tables\u001b[39;00m\n",
      "\u001b[0;31mAttributeError\u001b[0m: module 'camelot' has no attribute 'read_pdf'"
     ]
    }
   ],
   "source": [
    "import camelot\n",
    "import pandas as pd\n",
    "\n",
    "# Define the path to the PDF file\n",
    "pdf_path = 'path_to_pdf_file.pdf'\n",
    "# Define the output Excel file\n",
    "excel_path = 'path_to_excel_file.xlsx'\n",
    "\n",
    "# Use camelot to extract tables from the PDF\n",
    "tables = camelot.read_pdf(pdf_path, pages='1-end')\n",
    "\n",
    "# Create a Pandas Excel writer using XlsxWriter as the engine\n",
    "with pd.ExcelWriter(excel_path, engine='xlsxwriter') as writer:\n",
    "    # Iterate over the extracted tables\n",
    "    for i, table in enumerate(tables):\n",
    "        # Convert the table to a DataFrame\n",
    "        df = table.df\n",
    "        # Write the DataFrame to a specific sheet in the Excel file\n",
    "        df.to_excel(writer, sheet_name=f'Sheet_{i+1}', index=False)\n",
    "\n",
    "print(\"PDF tables have been successfully converted to Excel.\")\n"
   ]
  },
  {
   "cell_type": "code",
   "execution_count": null,
   "metadata": {},
   "outputs": [],
   "source": []
  }
 ],
 "metadata": {
  "kernelspec": {
   "display_name": "Python 3",
   "language": "python",
   "name": "python3"
  },
  "language_info": {
   "codemirror_mode": {
    "name": "ipython",
    "version": 3
   },
   "file_extension": ".py",
   "mimetype": "text/x-python",
   "name": "python",
   "nbconvert_exporter": "python",
   "pygments_lexer": "ipython3",
   "version": "3.12.3"
  }
 },
 "nbformat": 4,
 "nbformat_minor": 2
}
